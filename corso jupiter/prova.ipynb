{
 "cells": [
  {
   "cell_type": "code",
   "execution_count": 9,
   "id": "1459521f-8b98-4ec6-9f9b-7a6c727f51c3",
   "metadata": {},
   "outputs": [
    {
     "name": "stdout",
     "output_type": "stream",
     "text": [
      "7\n"
     ]
    }
   ],
   "source": [
    "x=3\n",
    "y=4\n",
    "sum = x+y\n",
    "print(sum)"
   ]
  },
  {
   "cell_type": "code",
   "execution_count": 11,
   "id": "2ff53e62-050b-4fbb-8483-c0da38bbc87f",
   "metadata": {},
   "outputs": [
    {
     "name": "stdout",
     "output_type": "stream",
     "text": [
      "12\n"
     ]
    }
   ],
   "source": [
    "print(sum + 5)"
   ]
  },
  {
   "cell_type": "code",
   "execution_count": 13,
   "id": "15b3ea0a-4786-4eec-8b7b-1c658cb7dcc2",
   "metadata": {},
   "outputs": [],
   "source": [
    "import numpy as np"
   ]
  },
  {
   "cell_type": "code",
   "execution_count": 19,
   "id": "aae8f46b-c03e-4b7e-abb3-ab17277d190b",
   "metadata": {},
   "outputs": [
    {
     "data": {
      "text/plain": [
       "array([1, 2, 3, 4, 5])"
      ]
     },
     "execution_count": 19,
     "metadata": {},
     "output_type": "execute_result"
    }
   ],
   "source": [
    "arr = np.array([1,2,3,4,5])\n",
    "arr2d =np.array([[1,2,3], [4,5,6])\n",
    "arr"
   ]
  },
  {
   "cell_type": "code",
   "execution_count": 29,
   "id": "e589b37a-7861-47f2-927c-39b0c401f863",
   "metadata": {},
   "outputs": [
    {
     "data": {
      "text/plain": [
       "2"
      ]
     },
     "execution_count": 29,
     "metadata": {},
     "output_type": "execute_result"
    }
   ],
   "source": [
    "arr2d\n",
    "arr2d.ndim"
   ]
  },
  {
   "cell_type": "code",
   "execution_count": 23,
   "id": "3ed99827-4e43-4bb4-9e6a-0759ec71d75f",
   "metadata": {},
   "outputs": [
    {
     "name": "stdout",
     "output_type": "stream",
     "text": [
      "Forma dell'array: (5,)\n",
      "Dimensioni dell'array: 1\n",
      "Tipo di dati: int64\n",
      "Numero di elementi: 5\n",
      "Somma degli elementi: 15\n",
      "Media degli elementi: 3.0\n",
      "Valore massimo: 5\n",
      "Indice del valore massimo: 4\n"
     ]
    }
   ],
   "source": [
    "# Creazione di un array\n",
    "arr = np.array([1, 2, 3, 4, 5])\n",
    "\n",
    "# Utilizzo di alcuni metodi\n",
    "print(\"Forma dell'array:\", arr.shape) # Output: (5,)\n",
    "print(\"Dimensioni dell'array:\", arr.ndim) # Output: 1\n",
    "print(\"Tipo di dati:\", arr.dtype) # Output: int64 (varia a seconda della piattaforma)\n",
    "print(\"Numero di elementi:\", arr.size) # Output: 5\n",
    "print(\"Somma degli elementi:\", arr.sum()) # Output: 15\n",
    "print(\"Media degli elementi:\", arr.mean()) # Output: 3.0\n",
    "print(\"Valore massimo:\", arr.max()) # Output: 5\n",
    "print(\"Indice del valore massimo:\", arr.argmax()) # Output: 4\n",
    "\n"
   ]
  },
  {
   "cell_type": "code",
   "execution_count": 31,
   "id": "88853b32-eda9-4cb9-b62c-a7c09dbcbadb",
   "metadata": {},
   "outputs": [
    {
     "data": {
      "text/plain": [
       "array([0, 1, 2, 3, 4, 5, 6, 7, 8, 9])"
      ]
     },
     "execution_count": 31,
     "metadata": {},
     "output_type": "execute_result"
    }
   ],
   "source": [
    "arr = np.arange(10)\n",
    "arr"
   ]
  },
  {
   "cell_type": "code",
   "execution_count": 33,
   "id": "30045c8f-7491-4fb6-8b4a-e67dded0d30f",
   "metadata": {},
   "outputs": [
    {
     "name": "stdout",
     "output_type": "stream",
     "text": [
      "[[0 1 2]\n",
      " [3 4 5]]\n"
     ]
    }
   ],
   "source": [
    "arr = np.arange(6)\n",
    "reshape_arr = arr.reshape((2,3))\n",
    "print(reshape_arr)"
   ]
  },
  {
   "cell_type": "code",
   "execution_count": 115,
   "id": "e8f3b3ad-603e-481f-9355-f98d2d289e16",
   "metadata": {},
   "outputs": [
    {
     "name": "stdout",
     "output_type": "stream",
     "text": [
      "int64\n",
      "float64\n",
      "(60,)\n",
      "[[[10. 11. 12. 13. 14. 15. 16. 17. 18. 19.]\n",
      "  [20. 21. 22. 23. 24. 25. 26. 27. 28. 29.]\n",
      "  [30. 31. 32. 33. 34. 35. 36. 37. 38. 39.]]\n",
      "\n",
      " [[40. 41. 42. 43. 44. 45. 46. 47. 48. 49.]\n",
      "  [50. 51. 52. 53. 54. 55. 56. 57. 58. 59.]\n",
      "  [60. 61. 62. 63. 64. 65. 66. 67. 68. 69.]]]\n"
     ]
    },
    {
     "data": {
      "text/plain": [
       "3"
      ]
     },
     "execution_count": 115,
     "metadata": {},
     "output_type": "execute_result"
    }
   ],
   "source": [
    "arr = np.arange(10,70)\n",
    "print(arr.dtype)\n",
    "arr=np.array(arr, dtype=float)\n",
    "print(arr.dtype)\n",
    "print(arr.shape)\n",
    "arr = arr.reshape((2,3,10))\n",
    "print(arr)\n",
    "arr.ndim\n"
   ]
  },
  {
   "cell_type": "code",
   "execution_count": null,
   "id": "24cafe69-5e54-480c-9719-ca351e69e1a7",
   "metadata": {},
   "outputs": [],
   "source": []
  }
 ],
 "metadata": {
  "kernelspec": {
   "display_name": "Python [conda env:base] *",
   "language": "python",
   "name": "conda-base-py"
  },
  "language_info": {
   "codemirror_mode": {
    "name": "ipython",
    "version": 3
   },
   "file_extension": ".py",
   "mimetype": "text/x-python",
   "name": "python",
   "nbconvert_exporter": "python",
   "pygments_lexer": "ipython3",
   "version": "3.12.7"
  }
 },
 "nbformat": 4,
 "nbformat_minor": 5
}
